{
 "cells": [
  {
   "cell_type": "code",
   "execution_count": 26,
   "metadata": {},
   "outputs": [],
   "source": [
    "import pandas as pd"
   ]
  },
  {
   "cell_type": "code",
   "execution_count": 27,
   "metadata": {},
   "outputs": [],
   "source": [
    "df = pd.read_csv('glassdoor_jobs.csv')"
   ]
  },
  {
   "cell_type": "code",
   "execution_count": 28,
   "metadata": {},
   "outputs": [
    {
     "data": {
      "text/plain": [
       "956"
      ]
     },
     "execution_count": 28,
     "metadata": {},
     "output_type": "execute_result"
    }
   ],
   "source": [
    "len(df)"
   ]
  },
  {
   "attachments": {},
   "cell_type": "markdown",
   "metadata": {},
   "source": [
    "#### Parse Salary Data"
   ]
  },
  {
   "cell_type": "code",
   "execution_count": 29,
   "metadata": {},
   "outputs": [
    {
     "data": {
      "text/plain": [
       "742"
      ]
     },
     "execution_count": 29,
     "metadata": {},
     "output_type": "execute_result"
    }
   ],
   "source": [
    "# Removing Salary Estimates with the values -1 as they won't help for the model at all.\n",
    "new_df = df[df['Salary Estimate'] != '-1']\n",
    "len(new_df)"
   ]
  },
  {
   "cell_type": "code",
   "execution_count": 30,
   "metadata": {},
   "outputs": [
    {
     "data": {
      "text/plain": [
       "0       53-91 \n",
       "1      63-112 \n",
       "2       80-90 \n",
       "3       56-97 \n",
       "4      86-143 \n",
       "        ...   \n",
       "950    58-111 \n",
       "951    72-133 \n",
       "952     56-91 \n",
       "953    95-160 \n",
       "955    61-126 \n",
       "Name: Salary Estimate, Length: 742, dtype: object"
      ]
     },
     "execution_count": 30,
     "metadata": {},
     "output_type": "execute_result"
    }
   ],
   "source": [
    "# Removing (Glassdoor est.)s from the Salary Estimates Column\n",
    "salary = new_df['Salary Estimate'].apply(lambda x: x.split(\"(\")[0])\n",
    "minus_K = salary.apply(lambda x: x.replace('K', '').replace('$', ''))\n",
    "min_hr = minus_K.apply(lambda x: x.lower().replace('per hour', '').replace('employer provided salary', ''))\n",
    "colons = min_hr.apply(lambda x: x.replace(':', ''))\n",
    "colons"
   ]
  },
  {
   "cell_type": "code",
   "execution_count": 31,
   "metadata": {},
   "outputs": [
    {
     "name": "stderr",
     "output_type": "stream",
     "text": [
      "C:\\Users\\Ray Joshi\\AppData\\Local\\Temp\\ipykernel_31740\\4078602219.py:1: SettingWithCopyWarning: \n",
      "A value is trying to be set on a copy of a slice from a DataFrame.\n",
      "Try using .loc[row_indexer,col_indexer] = value instead\n",
      "\n",
      "See the caveats in the documentation: https://pandas.pydata.org/pandas-docs/stable/user_guide/indexing.html#returning-a-view-versus-a-copy\n",
      "  new_df['hourly'] = new_df['Salary Estimate'].apply(lambda x: 1 if 'per hour' in x.lower() else 0)\n",
      "C:\\Users\\Ray Joshi\\AppData\\Local\\Temp\\ipykernel_31740\\4078602219.py:2: SettingWithCopyWarning: \n",
      "A value is trying to be set on a copy of a slice from a DataFrame.\n",
      "Try using .loc[row_indexer,col_indexer] = value instead\n",
      "\n",
      "See the caveats in the documentation: https://pandas.pydata.org/pandas-docs/stable/user_guide/indexing.html#returning-a-view-versus-a-copy\n",
      "  new_df['employer_provided'] = new_df['Salary Estimate'].apply(lambda x: 1 if 'employer provided salary:' in x.lower() else 0)\n"
     ]
    }
   ],
   "source": [
    "new_df['hourly'] = new_df['Salary Estimate'].apply(lambda x: 1 if 'per hour' in x.lower() else 0)\n",
    "new_df['employer_provided'] = new_df['Salary Estimate'].apply(lambda x: 1 if 'employer provided salary:' in x.lower() else 0)"
   ]
  },
  {
   "cell_type": "code",
   "execution_count": 40,
   "metadata": {},
   "outputs": [
    {
     "name": "stderr",
     "output_type": "stream",
     "text": [
      "C:\\Users\\Ray Joshi\\AppData\\Local\\Temp\\ipykernel_31740\\461559288.py:1: SettingWithCopyWarning: \n",
      "A value is trying to be set on a copy of a slice from a DataFrame.\n",
      "Try using .loc[row_indexer,col_indexer] = value instead\n",
      "\n",
      "See the caveats in the documentation: https://pandas.pydata.org/pandas-docs/stable/user_guide/indexing.html#returning-a-view-versus-a-copy\n",
      "  new_df['min_salary'] = colons.apply(lambda x: int(x.split('-')[0]))\n",
      "C:\\Users\\Ray Joshi\\AppData\\Local\\Temp\\ipykernel_31740\\461559288.py:2: SettingWithCopyWarning: \n",
      "A value is trying to be set on a copy of a slice from a DataFrame.\n",
      "Try using .loc[row_indexer,col_indexer] = value instead\n",
      "\n",
      "See the caveats in the documentation: https://pandas.pydata.org/pandas-docs/stable/user_guide/indexing.html#returning-a-view-versus-a-copy\n",
      "  new_df['max_salary'] = colons.apply(lambda x: int(x.split('-')[1]))\n",
      "C:\\Users\\Ray Joshi\\AppData\\Local\\Temp\\ipykernel_31740\\461559288.py:3: SettingWithCopyWarning: \n",
      "A value is trying to be set on a copy of a slice from a DataFrame.\n",
      "Try using .loc[row_indexer,col_indexer] = value instead\n",
      "\n",
      "See the caveats in the documentation: https://pandas.pydata.org/pandas-docs/stable/user_guide/indexing.html#returning-a-view-versus-a-copy\n",
      "  new_df['avg_salary'] = (new_df.min_salary + new_df.max_salary)/2\n"
     ]
    }
   ],
   "source": [
    "new_df['min_salary'] = colons.apply(lambda x: int(x.split('-')[0]))\n",
    "new_df['max_salary'] = colons.apply(lambda x: int(x.split('-')[1]))\n",
    "new_df['avg_salary'] = (new_df.min_salary + new_df.max_salary)/2"
   ]
  },
  {
   "attachments": {},
   "cell_type": "markdown",
   "metadata": {},
   "source": [
    "Company Name"
   ]
  },
  {
   "attachments": {},
   "cell_type": "markdown",
   "metadata": {},
   "source": [
    "Separate State and City"
   ]
  },
  {
   "attachments": {},
   "cell_type": "markdown",
   "metadata": {},
   "source": [
    "Age of Company"
   ]
  },
  {
   "attachments": {},
   "cell_type": "markdown",
   "metadata": {},
   "source": [
    "Job Description Parsing"
   ]
  },
  {
   "cell_type": "markdown",
   "metadata": {},
   "source": []
  }
 ],
 "metadata": {
  "kernelspec": {
   "display_name": "Python 3",
   "language": "python",
   "name": "python3"
  },
  "language_info": {
   "codemirror_mode": {
    "name": "ipython",
    "version": 3
   },
   "file_extension": ".py",
   "mimetype": "text/x-python",
   "name": "python",
   "nbconvert_exporter": "python",
   "pygments_lexer": "ipython3",
   "version": "3.9.16"
  },
  "orig_nbformat": 4
 },
 "nbformat": 4,
 "nbformat_minor": 2
}
